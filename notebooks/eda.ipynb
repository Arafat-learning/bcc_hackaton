{
 "cells": [
  {
   "cell_type": "code",
   "execution_count": 1,
   "id": "115e6f1d-6be0-4316-95b2-6e21a50dca88",
   "metadata": {},
   "outputs": [],
   "source": [
    "import polars as pl\n",
    "\n",
    "clients = pl.read_csv(\"../data/clients.csv\")"
   ]
  },
  {
   "cell_type": "code",
   "execution_count": 2,
   "id": "d9cc0303-320c-4610-8b0d-1ae305a9a459",
   "metadata": {},
   "outputs": [
    {
     "name": "stdout",
     "output_type": "stream",
     "text": [
      "['client_code', 'name', 'status', 'age', 'city', 'avg_monthly_balance_KZT']\n",
      "shape: (4,)\n",
      "Series: 'status' [str]\n",
      "[\n",
      "\t\"Зарплатный клиент\"\n",
      "\t\"Стандартный клиент\"\n",
      "\t\"Премиальный клиент\"\n",
      "\t\"Студент\"\n",
      "]\n"
     ]
    }
   ],
   "source": [
    "print(clients.columns)\n",
    "print(clients.get_column(\"status\").unique())"
   ]
  },
  {
   "cell_type": "code",
   "execution_count": 3,
   "id": "e0158d90-fe34-4a39-a427-7fc753a9e5a4",
   "metadata": {},
   "outputs": [
    {
     "data": {
      "text/plain": [
       "41"
      ]
     },
     "execution_count": 3,
     "metadata": {},
     "output_type": "execute_result"
    }
   ],
   "source": [
    "import random\n",
    "\n",
    "random.seed(42)\n",
    "\n",
    "random_customer = random.randint(1, 60)\n",
    "\n",
    "random_customer"
   ]
  },
  {
   "cell_type": "code",
   "execution_count": 14,
   "id": "58ed7c1f-1934-4c94-b030-5acd27a58293",
   "metadata": {},
   "outputs": [],
   "source": [
    "import os\n",
    "\n",
    "datafiles = os.listdir(\"../data\")"
   ]
  },
  {
   "cell_type": "code",
   "execution_count": 4,
   "id": "330ad172-33ea-4ef9-8628-bad1f2ec7cbc",
   "metadata": {},
   "outputs": [],
   "source": [
    "transfers = pl.read_csv(\"../data/client_41_transfers_3m.csv\")\n",
    "transactions = pl.read_csv(\"../data/client_41_transactions_3m.csv\")"
   ]
  },
  {
   "cell_type": "code",
   "execution_count": 8,
   "id": "65971cd4-f158-4474-b041-f1c62eb2d597",
   "metadata": {},
   "outputs": [
    {
     "data": {
      "text/html": [
       "<div><style>\n",
       ".dataframe > thead > tr,\n",
       ".dataframe > tbody > tr {\n",
       "  text-align: right;\n",
       "  white-space: pre-wrap;\n",
       "}\n",
       "</style>\n",
       "<small>shape: (2, 2)</small><table border=\"1\" class=\"dataframe\"><thead><tr><th>direction</th><th>amount</th></tr><tr><td>str</td><td>f64</td></tr></thead><tbody><tr><td>&quot;in&quot;</td><td>1.6498e6</td></tr><tr><td>&quot;out&quot;</td><td>6.5270e6</td></tr></tbody></table></div>"
      ],
      "text/plain": [
       "shape: (2, 2)\n",
       "┌───────────┬──────────┐\n",
       "│ direction ┆ amount   │\n",
       "│ ---       ┆ ---      │\n",
       "│ str       ┆ f64      │\n",
       "╞═══════════╪══════════╡\n",
       "│ in        ┆ 1.6498e6 │\n",
       "│ out       ┆ 6.5270e6 │\n",
       "└───────────┴──────────┘"
      ]
     },
     "execution_count": 8,
     "metadata": {},
     "output_type": "execute_result"
    }
   ],
   "source": [
    "transfers.group_by(\"direction\").agg(pl.col(\"amount\").sum())  "
   ]
  },
  {
   "cell_type": "markdown",
   "id": "8d734241-b627-4559-8940-300858989555",
   "metadata": {},
   "source": [
    "salary client money mostly goes \"out\" than \"in\""
   ]
  },
  {
   "cell_type": "code",
   "execution_count": 9,
   "id": "06078350-42fe-477e-8ee4-b7dbcc43e112",
   "metadata": {},
   "outputs": [
    {
     "data": {
      "text/html": [
       "<div><style>\n",
       ".dataframe > thead > tr,\n",
       ".dataframe > tbody > tr {\n",
       "  text-align: right;\n",
       "  white-space: pre-wrap;\n",
       "}\n",
       "</style>\n",
       "<small>shape: (300, 9)</small><table border=\"1\" class=\"dataframe\"><thead><tr><th>client_code</th><th>name</th><th>product</th><th>status</th><th>city</th><th>date</th><th>category</th><th>amount</th><th>currency</th></tr><tr><td>i64</td><td>str</td><td>str</td><td>str</td><td>str</td><td>str</td><td>str</td><td>f64</td><td>str</td></tr></thead><tbody><tr><td>41</td><td>&quot;Сандугаш&quot;</td><td>&quot;Депозит Сберегательный&quot;</td><td>&quot;Зарплатный клиент&quot;</td><td>&quot;Шымкент&quot;</td><td>&quot;2025-06-01 09:30:07&quot;</td><td>&quot;Такси&quot;</td><td>5485.31</td><td>&quot;KZT&quot;</td></tr><tr><td>41</td><td>&quot;Сандугаш&quot;</td><td>&quot;Депозит Сберегательный&quot;</td><td>&quot;Зарплатный клиент&quot;</td><td>&quot;Шымкент&quot;</td><td>&quot;2025-06-01 11:20:15&quot;</td><td>&quot;Такси&quot;</td><td>4548.25</td><td>&quot;KZT&quot;</td></tr><tr><td>41</td><td>&quot;Сандугаш&quot;</td><td>&quot;Депозит Сберегательный&quot;</td><td>&quot;Зарплатный клиент&quot;</td><td>&quot;Шымкент&quot;</td><td>&quot;2025-06-01 19:00:39&quot;</td><td>&quot;Кафе и рестораны&quot;</td><td>11120.78</td><td>&quot;KZT&quot;</td></tr><tr><td>41</td><td>&quot;Сандугаш&quot;</td><td>&quot;Депозит Сберегательный&quot;</td><td>&quot;Зарплатный клиент&quot;</td><td>&quot;Шымкент&quot;</td><td>&quot;2025-06-01 20:00:27&quot;</td><td>&quot;Смотрим дома&quot;</td><td>6657.88</td><td>&quot;KZT&quot;</td></tr><tr><td>41</td><td>&quot;Сандугаш&quot;</td><td>&quot;Депозит Сберегательный&quot;</td><td>&quot;Зарплатный клиент&quot;</td><td>&quot;Шымкент&quot;</td><td>&quot;2025-06-01 20:30:12&quot;</td><td>&quot;Едим дома&quot;</td><td>3674.01</td><td>&quot;KZT&quot;</td></tr><tr><td>&hellip;</td><td>&hellip;</td><td>&hellip;</td><td>&hellip;</td><td>&hellip;</td><td>&hellip;</td><td>&hellip;</td><td>&hellip;</td><td>&hellip;</td></tr><tr><td>41</td><td>&quot;Сандугаш&quot;</td><td>&quot;Депозит Сберегательный&quot;</td><td>&quot;Зарплатный клиент&quot;</td><td>&quot;Шымкент&quot;</td><td>&quot;2025-08-30 08:40:10&quot;</td><td>&quot;Играем дома&quot;</td><td>4672.87</td><td>&quot;KZT&quot;</td></tr><tr><td>41</td><td>&quot;Сандугаш&quot;</td><td>&quot;Депозит Сберегательный&quot;</td><td>&quot;Зарплатный клиент&quot;</td><td>&quot;Шымкент&quot;</td><td>&quot;2025-08-30 08:40:24&quot;</td><td>&quot;Такси&quot;</td><td>5585.77</td><td>&quot;KZT&quot;</td></tr><tr><td>41</td><td>&quot;Сандугаш&quot;</td><td>&quot;Депозит Сберегательный&quot;</td><td>&quot;Зарплатный клиент&quot;</td><td>&quot;Шымкент&quot;</td><td>&quot;2025-08-30 12:10:09&quot;</td><td>&quot;Продукты питания&quot;</td><td>9834.72</td><td>&quot;KZT&quot;</td></tr><tr><td>41</td><td>&quot;Сандугаш&quot;</td><td>&quot;Депозит Сберегательный&quot;</td><td>&quot;Зарплатный клиент&quot;</td><td>&quot;Шымкент&quot;</td><td>&quot;2025-08-31 11:30:08&quot;</td><td>&quot;Играем дома&quot;</td><td>4327.95</td><td>&quot;KZT&quot;</td></tr><tr><td>41</td><td>&quot;Сандугаш&quot;</td><td>&quot;Депозит Сберегательный&quot;</td><td>&quot;Зарплатный клиент&quot;</td><td>&quot;Шымкент&quot;</td><td>&quot;2025-08-31 12:10:18&quot;</td><td>&quot;Продукты питания&quot;</td><td>26355.13</td><td>&quot;KZT&quot;</td></tr></tbody></table></div>"
      ],
      "text/plain": [
       "shape: (300, 9)\n",
       "┌────────────┬──────────┬────────────┬───────────┬───┬───────────┬───────────┬──────────┬──────────┐\n",
       "│ client_cod ┆ name     ┆ product    ┆ status    ┆ … ┆ date      ┆ category  ┆ amount   ┆ currency │\n",
       "│ e          ┆ ---      ┆ ---        ┆ ---       ┆   ┆ ---       ┆ ---       ┆ ---      ┆ ---      │\n",
       "│ ---        ┆ str      ┆ str        ┆ str       ┆   ┆ str       ┆ str       ┆ f64      ┆ str      │\n",
       "│ i64        ┆          ┆            ┆           ┆   ┆           ┆           ┆          ┆          │\n",
       "╞════════════╪══════════╪════════════╪═══════════╪═══╪═══════════╪═══════════╪══════════╪══════════╡\n",
       "│ 41         ┆ Сандугаш ┆ Депозит    ┆ Зарплатны ┆ … ┆ 2025-06-0 ┆ Такси     ┆ 5485.31  ┆ KZT      │\n",
       "│            ┆          ┆ Сберегател ┆ й клиент  ┆   ┆ 1         ┆           ┆          ┆          │\n",
       "│            ┆          ┆ ьный       ┆           ┆   ┆ 09:30:07  ┆           ┆          ┆          │\n",
       "│ 41         ┆ Сандугаш ┆ Депозит    ┆ Зарплатны ┆ … ┆ 2025-06-0 ┆ Такси     ┆ 4548.25  ┆ KZT      │\n",
       "│            ┆          ┆ Сберегател ┆ й клиент  ┆   ┆ 1         ┆           ┆          ┆          │\n",
       "│            ┆          ┆ ьный       ┆           ┆   ┆ 11:20:15  ┆           ┆          ┆          │\n",
       "│ 41         ┆ Сандугаш ┆ Депозит    ┆ Зарплатны ┆ … ┆ 2025-06-0 ┆ Кафе и    ┆ 11120.78 ┆ KZT      │\n",
       "│            ┆          ┆ Сберегател ┆ й клиент  ┆   ┆ 1         ┆ рестораны ┆          ┆          │\n",
       "│            ┆          ┆ ьный       ┆           ┆   ┆ 19:00:39  ┆           ┆          ┆          │\n",
       "│ 41         ┆ Сандугаш ┆ Депозит    ┆ Зарплатны ┆ … ┆ 2025-06-0 ┆ Смотрим   ┆ 6657.88  ┆ KZT      │\n",
       "│            ┆          ┆ Сберегател ┆ й клиент  ┆   ┆ 1         ┆ дома      ┆          ┆          │\n",
       "│            ┆          ┆ ьный       ┆           ┆   ┆ 20:00:27  ┆           ┆          ┆          │\n",
       "│ 41         ┆ Сандугаш ┆ Депозит    ┆ Зарплатны ┆ … ┆ 2025-06-0 ┆ Едим дома ┆ 3674.01  ┆ KZT      │\n",
       "│            ┆          ┆ Сберегател ┆ й клиент  ┆   ┆ 1         ┆           ┆          ┆          │\n",
       "│            ┆          ┆ ьный       ┆           ┆   ┆ 20:30:12  ┆           ┆          ┆          │\n",
       "│ …          ┆ …        ┆ …          ┆ …         ┆ … ┆ …         ┆ …         ┆ …        ┆ …        │\n",
       "│ 41         ┆ Сандугаш ┆ Депозит    ┆ Зарплатны ┆ … ┆ 2025-08-3 ┆ Играем    ┆ 4672.87  ┆ KZT      │\n",
       "│            ┆          ┆ Сберегател ┆ й клиент  ┆   ┆ 0         ┆ дома      ┆          ┆          │\n",
       "│            ┆          ┆ ьный       ┆           ┆   ┆ 08:40:10  ┆           ┆          ┆          │\n",
       "│ 41         ┆ Сандугаш ┆ Депозит    ┆ Зарплатны ┆ … ┆ 2025-08-3 ┆ Такси     ┆ 5585.77  ┆ KZT      │\n",
       "│            ┆          ┆ Сберегател ┆ й клиент  ┆   ┆ 0         ┆           ┆          ┆          │\n",
       "│            ┆          ┆ ьный       ┆           ┆   ┆ 08:40:24  ┆           ┆          ┆          │\n",
       "│ 41         ┆ Сандугаш ┆ Депозит    ┆ Зарплатны ┆ … ┆ 2025-08-3 ┆ Продукты  ┆ 9834.72  ┆ KZT      │\n",
       "│            ┆          ┆ Сберегател ┆ й клиент  ┆   ┆ 0         ┆ питания   ┆          ┆          │\n",
       "│            ┆          ┆ ьный       ┆           ┆   ┆ 12:10:09  ┆           ┆          ┆          │\n",
       "│ 41         ┆ Сандугаш ┆ Депозит    ┆ Зарплатны ┆ … ┆ 2025-08-3 ┆ Играем    ┆ 4327.95  ┆ KZT      │\n",
       "│            ┆          ┆ Сберегател ┆ й клиент  ┆   ┆ 1         ┆ дома      ┆          ┆          │\n",
       "│            ┆          ┆ ьный       ┆           ┆   ┆ 11:30:08  ┆           ┆          ┆          │\n",
       "│ 41         ┆ Сандугаш ┆ Депозит    ┆ Зарплатны ┆ … ┆ 2025-08-3 ┆ Продукты  ┆ 26355.13 ┆ KZT      │\n",
       "│            ┆          ┆ Сберегател ┆ й клиент  ┆   ┆ 1         ┆ питания   ┆          ┆          │\n",
       "│            ┆          ┆ ьный       ┆           ┆   ┆ 12:10:18  ┆           ┆          ┆          │\n",
       "└────────────┴──────────┴────────────┴───────────┴───┴───────────┴───────────┴──────────┴──────────┘"
      ]
     },
     "execution_count": 9,
     "metadata": {},
     "output_type": "execute_result"
    }
   ],
   "source": [
    "transactions"
   ]
  }
 ],
 "metadata": {
  "kernelspec": {
   "display_name": "Python 3 (ipykernel)",
   "language": "python",
   "name": "python3"
  },
  "language_info": {
   "codemirror_mode": {
    "name": "ipython",
    "version": 3
   },
   "file_extension": ".py",
   "mimetype": "text/x-python",
   "name": "python",
   "nbconvert_exporter": "python",
   "pygments_lexer": "ipython3",
   "version": "3.11.6"
  }
 },
 "nbformat": 4,
 "nbformat_minor": 5
}
